{
 "cells": [
  {
   "cell_type": "code",
   "execution_count": 4,
   "metadata": {
    "ExecuteTime": {
     "end_time": "2020-10-17T14:36:22.162404Z",
     "start_time": "2020-10-17T14:36:22.159980Z"
    }
   },
   "outputs": [],
   "source": [
    "import pandas as pd\n",
    "import numpy as np\n",
    "import os"
   ]
  },
  {
   "cell_type": "markdown",
   "metadata": {},
   "source": [
    "# данные\n"
   ]
  },
  {
   "cell_type": "code",
   "execution_count": 161,
   "metadata": {
    "ExecuteTime": {
     "end_time": "2020-10-17T21:13:27.599977Z",
     "start_time": "2020-10-17T21:13:11.733252Z"
    }
   },
   "outputs": [],
   "source": [
    "data = []\n",
    "for file in sorted(os.listdir('shipments/')):\n",
    "    data.append(file)\n",
    "shipments = pd.read_csv('shipments/' + data[0])\n",
    "for d in data[1:]:\n",
    "    shipments = pd.concat([shipments, pd.read_csv(str('shipments/' + d))]).reset_index(drop=True)\n",
    "\n",
    "user = pd.read_csv('misc/user_profiles_Nastya.csv')\n",
    "\n",
    "data = []\n",
    "for file in sorted(os.listdir('line_items01/')):\n",
    "    data.append(file)\n",
    "line01 = pd.read_csv('line_items01/' + data[0])\n",
    "for d in data[1:]:\n",
    "    line01 = pd.concat([line01, pd.read_csv(str('line_items01/' + d))])"
   ]
  },
  {
   "cell_type": "code",
   "execution_count": 63,
   "metadata": {
    "ExecuteTime": {
     "end_time": "2020-10-17T16:22:24.005880Z",
     "start_time": "2020-10-17T16:22:20.945130Z"
    }
   },
   "outputs": [],
   "source": [
    "ship_user = pd.merge(shipments, user, on='user_id', how='left')\n",
    "\n",
    "ship_user['age'] = ship_user['age'].replace(0, np.nan)"
   ]
  },
  {
   "cell_type": "code",
   "execution_count": 64,
   "metadata": {
    "ExecuteTime": {
     "end_time": "2020-10-17T16:22:28.132406Z",
     "start_time": "2020-10-17T16:22:24.008177Z"
    }
   },
   "outputs": [],
   "source": [
    "ship_user_line01 = pd.merge(ship_user, line01, on='shipment_id', how='left')"
   ]
  },
  {
   "cell_type": "code",
   "execution_count": 65,
   "metadata": {
    "ExecuteTime": {
     "end_time": "2020-10-17T16:22:30.952757Z",
     "start_time": "2020-10-17T16:22:28.134312Z"
    }
   },
   "outputs": [],
   "source": [
    "brands_stats = ship_user_line01['brand_name'].value_counts() \n",
    "\n",
    "big_brands = brands_stats[brands_stats > 3000].index\n",
    "\n",
    "ship_user_line01.at[~ship_user_line01['brand_name'].isin(big_brands), 'brand_name'] = np.nan"
   ]
  },
  {
   "cell_type": "code",
   "execution_count": 11,
   "metadata": {
    "ExecuteTime": {
     "end_time": "2020-10-17T14:40:15.882015Z",
     "start_time": "2020-10-17T14:40:13.056350Z"
    }
   },
   "outputs": [
    {
     "name": "stdout",
     "output_type": "stream",
     "text": [
      "retailer 46\n",
      "s.order_state 4\n",
      "shipment_state 7\n",
      "s.city_name 97\n",
      "dw_kind 3\n",
      "platform 2\n",
      "os 6\n",
      "gender 2\n",
      "brand_name 130\n",
      "pricer 4\n"
     ]
    }
   ],
   "source": [
    "dates = ['order_created_at', 'order_completed_at', 'shipped_at', 'shipment_starts_at', 'bdate', 'created_at']\n",
    "\n",
    "cats = []\n",
    "for col in ship_user_line01.columns:\n",
    "    if col not in dates:\n",
    "        if ship_user_line01[col].dtype == 'object':\n",
    "            cats.append(col)\n",
    "            print(col, len(ship_user_line01[col].value_counts()))"
   ]
  },
  {
   "cell_type": "code",
   "execution_count": 13,
   "metadata": {
    "ExecuteTime": {
     "end_time": "2020-10-17T14:40:29.706440Z",
     "start_time": "2020-10-17T14:40:21.900951Z"
    }
   },
   "outputs": [
    {
     "data": {
      "text/html": [
       "<div>\n",
       "<style scoped>\n",
       "    .dataframe tbody tr th:only-of-type {\n",
       "        vertical-align: middle;\n",
       "    }\n",
       "\n",
       "    .dataframe tbody tr th {\n",
       "        vertical-align: top;\n",
       "    }\n",
       "\n",
       "    .dataframe thead th {\n",
       "        text-align: right;\n",
       "    }\n",
       "</style>\n",
       "<table border=\"1\" class=\"dataframe\">\n",
       "  <thead>\n",
       "    <tr style=\"text-align: right;\">\n",
       "      <th></th>\n",
       "      <th>sent</th>\n",
       "      <th>action_id</th>\n",
       "      <th>user_id</th>\n",
       "      <th>id</th>\n",
       "      <th>subject</th>\n",
       "      <th>body</th>\n",
       "      <th>type</th>\n",
       "      <th>type_subject</th>\n",
       "    </tr>\n",
       "  </thead>\n",
       "  <tbody>\n",
       "    <tr>\n",
       "      <th>0</th>\n",
       "      <td>1.588847e+09</td>\n",
       "      <td>1512.0</td>\n",
       "      <td>1775692</td>\n",
       "      <td>1512</td>\n",
       "      <td>Сегодня готовим брауни с M&amp;M's  😋 Приступим?</td>\n",
       "      <td>Видео рецепт и все необходимые ингредиенты уже...</td>\n",
       "      <td>email</td>\n",
       "      <td>коммуникация</td>\n",
       "    </tr>\n",
       "    <tr>\n",
       "      <th>1</th>\n",
       "      <td>1.588847e+09</td>\n",
       "      <td>1512.0</td>\n",
       "      <td>1775687</td>\n",
       "      <td>1512</td>\n",
       "      <td>Сегодня готовим брауни с M&amp;M's  😋 Приступим?</td>\n",
       "      <td>Видео рецепт и все необходимые ингредиенты уже...</td>\n",
       "      <td>email</td>\n",
       "      <td>коммуникация</td>\n",
       "    </tr>\n",
       "    <tr>\n",
       "      <th>2</th>\n",
       "      <td>1.588847e+09</td>\n",
       "      <td>1512.0</td>\n",
       "      <td>1775684</td>\n",
       "      <td>1512</td>\n",
       "      <td>Сегодня готовим брауни с M&amp;M's  😋 Приступим?</td>\n",
       "      <td>Видео рецепт и все необходимые ингредиенты уже...</td>\n",
       "      <td>email</td>\n",
       "      <td>коммуникация</td>\n",
       "    </tr>\n",
       "    <tr>\n",
       "      <th>3</th>\n",
       "      <td>1.588847e+09</td>\n",
       "      <td>1512.0</td>\n",
       "      <td>1775678</td>\n",
       "      <td>1512</td>\n",
       "      <td>Сегодня готовим брауни с M&amp;M's  😋 Приступим?</td>\n",
       "      <td>Видео рецепт и все необходимые ингредиенты уже...</td>\n",
       "      <td>email</td>\n",
       "      <td>коммуникация</td>\n",
       "    </tr>\n",
       "    <tr>\n",
       "      <th>4</th>\n",
       "      <td>1.588847e+09</td>\n",
       "      <td>1512.0</td>\n",
       "      <td>1775660</td>\n",
       "      <td>1512</td>\n",
       "      <td>Сегодня готовим брауни с M&amp;M's  😋 Приступим?</td>\n",
       "      <td>Видео рецепт и все необходимые ингредиенты уже...</td>\n",
       "      <td>email</td>\n",
       "      <td>коммуникация</td>\n",
       "    </tr>\n",
       "  </tbody>\n",
       "</table>\n",
       "</div>"
      ],
      "text/plain": [
       "           sent  action_id  user_id    id  \\\n",
       "0  1.588847e+09     1512.0  1775692  1512   \n",
       "1  1.588847e+09     1512.0  1775687  1512   \n",
       "2  1.588847e+09     1512.0  1775684  1512   \n",
       "3  1.588847e+09     1512.0  1775678  1512   \n",
       "4  1.588847e+09     1512.0  1775660  1512   \n",
       "\n",
       "                                        subject  \\\n",
       "0  Сегодня готовим брауни с M&M's  😋 Приступим?   \n",
       "1  Сегодня готовим брауни с M&M's  😋 Приступим?   \n",
       "2  Сегодня готовим брауни с M&M's  😋 Приступим?   \n",
       "3  Сегодня готовим брауни с M&M's  😋 Приступим?   \n",
       "4  Сегодня готовим брауни с M&M's  😋 Приступим?   \n",
       "\n",
       "                                                body   type  type_subject  \n",
       "0  Видео рецепт и все необходимые ингредиенты уже...  email  коммуникация  \n",
       "1  Видео рецепт и все необходимые ингредиенты уже...  email  коммуникация  \n",
       "2  Видео рецепт и все необходимые ингредиенты уже...  email  коммуникация  \n",
       "3  Видео рецепт и все необходимые ингредиенты уже...  email  коммуникация  \n",
       "4  Видео рецепт и все необходимые ингредиенты уже...  email  коммуникация  "
      ]
     },
     "execution_count": 13,
     "metadata": {},
     "output_type": "execute_result"
    }
   ],
   "source": [
    "mess = pd.read_csv('messages/messages.csv')\n",
    "actions = pd.read_csv('messages/actions-labeled.csv').drop('Unnamed: 0', axis=1)\n",
    "mess_act = pd.merge(mess, actions, left_on='action_id', right_on='id')\n",
    "\n",
    "mess_act.head()"
   ]
  },
  {
   "cell_type": "code",
   "execution_count": 28,
   "metadata": {
    "ExecuteTime": {
     "end_time": "2020-10-17T15:19:39.188773Z",
     "start_time": "2020-10-17T15:19:38.834878Z"
    },
    "scrolled": true
   },
   "outputs": [
    {
     "data": {
      "text/plain": [
       "shipped          4048312\n",
       "canceled          351854\n",
       "ready                503\n",
       "collecting           486\n",
       "ready_to_ship        412\n",
       "shipping             304\n",
       "pending               28\n",
       "Name: shipment_state, dtype: int64"
      ]
     },
     "execution_count": 28,
     "metadata": {},
     "output_type": "execute_result"
    }
   ],
   "source": [
    "ship_user_line01['shipment_state'].value_counts()"
   ]
  },
  {
   "cell_type": "code",
   "execution_count": 261,
   "metadata": {
    "ExecuteTime": {
     "end_time": "2020-10-18T05:45:53.385767Z",
     "start_time": "2020-10-18T05:45:50.319688Z"
    },
    "scrolled": true
   },
   "outputs": [],
   "source": [
    "ship_user_line01['shipment_time'] = (pd.to_datetime(ship_user_line01['shipped_at']) - pd.to_datetime(ship_user_line01['shipment_starts_at']))\n",
    "\n"
   ]
  },
  {
   "cell_type": "code",
   "execution_count": 267,
   "metadata": {
    "ExecuteTime": {
     "end_time": "2020-10-18T05:48:47.148038Z",
     "start_time": "2020-10-18T05:48:47.054862Z"
    }
   },
   "outputs": [
    {
     "data": {
      "text/plain": [
       "20 days 02:08:17       1\n",
       "15 days 19:53:44       1\n",
       "10 days 17:49:35       1\n",
       "9 days 17:34:07        1\n",
       "9 days 06:44:18        1\n",
       "                      ..\n",
       "-27 days +04:15:20     1\n",
       "-28 days +17:25:47     1\n",
       "-31 days +23:11:28    33\n",
       "-32 days +15:01:24     1\n",
       "-61 days +05:09:39     1\n",
       "Name: shipment_time, Length: 40555, dtype: int64"
      ]
     },
     "execution_count": 267,
     "metadata": {},
     "output_type": "execute_result"
    }
   ],
   "source": [
    "ship_user_line01['shipment_time'].value_counts().sort_index(ascending=False)"
   ]
  },
  {
   "cell_type": "code",
   "execution_count": 59,
   "metadata": {
    "ExecuteTime": {
     "end_time": "2020-10-17T15:56:46.242832Z",
     "start_time": "2020-10-17T15:56:45.834671Z"
    }
   },
   "outputs": [],
   "source": [
    "users_cancelled = ship_user_line01[ship_user_line01['shipment_state'] == 'canceled'].groupby('user_id')['shipment_state'].agg('count')\n",
    "\n",
    "users_shipped = ship_user_line01[ship_user_line01['shipment_state'] == 'shipped'].groupby('user_id')['shipment_state'].agg('count')\n",
    "\n",
    "ship_user_line01 = ship_user_line01.join(users_shipped, rsuffix='_shipped_count')\n",
    "ship_user_line01 = ship_user_line01.join(users_cancelled, rsuffix='_cancelled_count')"
   ]
  },
  {
   "cell_type": "code",
   "execution_count": 20,
   "metadata": {
    "ExecuteTime": {
     "end_time": "2020-10-17T14:56:29.423228Z",
     "start_time": "2020-10-17T14:56:23.382294Z"
    }
   },
   "outputs": [],
   "source": [
    "ship_user_line01['order_completed_at'] = pd.to_datetime(ship_user_line01['order_completed_at'])"
   ]
  },
  {
   "cell_type": "code",
   "execution_count": 21,
   "metadata": {
    "ExecuteTime": {
     "end_time": "2020-10-17T14:56:29.610138Z",
     "start_time": "2020-10-17T14:56:29.425301Z"
    }
   },
   "outputs": [],
   "source": [
    "ship_user_line01['month'] = ship_user_line01['order_completed_at'].dt.to_period('M')"
   ]
  },
  {
   "cell_type": "markdown",
   "metadata": {},
   "source": [
    "# модель на маленьком датасете (агрегаты по 3 переменным)"
   ]
  },
  {
   "cell_type": "code",
   "execution_count": 69,
   "metadata": {
    "ExecuteTime": {
     "end_time": "2020-10-17T16:39:07.186883Z",
     "start_time": "2020-10-17T16:39:06.962283Z"
    }
   },
   "outputs": [],
   "source": [
    "old_ids = set(sample_submission['Id']) & set(train['phone_id'])\n",
    "\n",
    "sample_submission.at[sample_submission['Id'].isin(old_ids),'Predicted'] = 1\n",
    "\n",
    "sample_submission.Predicted = sample_submission.Predicted.astype(int)"
   ]
  },
  {
   "cell_type": "code",
   "execution_count": 157,
   "metadata": {
    "ExecuteTime": {
     "end_time": "2020-10-17T21:10:01.623582Z",
     "start_time": "2020-10-17T21:10:01.274961Z"
    }
   },
   "outputs": [],
   "source": [
    "train = pd.read_csv('train/train.csv')\n",
    "sample_submission = pd.read_csv('sample_submission.csv', sep=';')"
   ]
  },
  {
   "cell_type": "code",
   "execution_count": 162,
   "metadata": {
    "ExecuteTime": {
     "end_time": "2020-10-17T21:13:39.606399Z",
     "start_time": "2020-10-17T21:13:39.256942Z"
    }
   },
   "outputs": [],
   "source": [
    "addr = pd.read_csv('misc/addresses.csv')"
   ]
  },
  {
   "cell_type": "code",
   "execution_count": 64,
   "metadata": {
    "ExecuteTime": {
     "end_time": "2020-10-17T11:14:17.194197Z",
     "start_time": "2020-10-17T11:14:16.263028Z"
    },
    "scrolled": true
   },
   "outputs": [],
   "source": [
    "train_full = pd.merge(train, addr, left_on='phone_id', right_on='phone_id', how='left')"
   ]
  },
  {
   "cell_type": "code",
   "execution_count": 175,
   "metadata": {
    "ExecuteTime": {
     "end_time": "2020-10-17T21:20:48.909931Z",
     "start_time": "2020-10-17T21:20:48.614239Z"
    }
   },
   "outputs": [],
   "source": [
    "submission_full = pd.merge(sample_submission, addr, left_on='Id', right_on='phone_id',how='left')"
   ]
  },
  {
   "cell_type": "code",
   "execution_count": 180,
   "metadata": {
    "ExecuteTime": {
     "end_time": "2020-10-17T21:23:43.394442Z",
     "start_time": "2020-10-17T21:23:40.753568Z"
    }
   },
   "outputs": [],
   "source": [
    "shipments_with_userid = pd.merge(shipments, addr, left_on='ship_address_id', right_on='id',how='left')"
   ]
  },
  {
   "cell_type": "code",
   "execution_count": 250,
   "metadata": {
    "ExecuteTime": {
     "end_time": "2020-10-17T22:38:39.849540Z",
     "start_time": "2020-10-17T22:38:39.109422Z"
    }
   },
   "outputs": [],
   "source": [
    "shipments_with_userid.order_completed_at = pd.to_datetime(shipments_with_userid.order_completed_at)"
   ]
  },
  {
   "cell_type": "code",
   "execution_count": 326,
   "metadata": {
    "ExecuteTime": {
     "end_time": "2020-10-18T07:30:18.102150Z",
     "start_time": "2020-10-18T07:30:18.093663Z"
    }
   },
   "outputs": [],
   "source": [
    "used_cols = ['total_cost','promo_total','total_weight']\n",
    "def foo(group_col):\n",
    "    to_mean = True\n",
    "    to_std = True\n",
    "    to_minmax = True\n",
    "    to_std_score = True\n",
    "    unite_rare_groups = False\n",
    "    min_group_size = 100\n",
    "    use_oleg_attenuation = False\n",
    "    oleg_midpoint =0\n",
    "\n",
    "    data = []\n",
    "    indices = []\n",
    "    for month in [8]:\n",
    "        mdata = group_col[group_col.order_completed_at.dt.month==month]\n",
    "        for col in used_cols:            \n",
    "            dmean = mdata[[col]].agg('mean').iloc[0]\n",
    "            dstd = mdata[[col]].agg('std').replace(-np.inf, np.nan).replace(np.inf, np.nan).fillna(0).iloc[0]\n",
    "            data+=[dmean,dstd]\n",
    "            indices += [(f'2020-0{month}',f'{col}_dmean'),(f'2020-0{month}',f'{col}_dstd')]\n",
    "\n",
    "    \n",
    "    return pd.Series(data, index=pd.MultiIndex.from_tuples(indices, names=['month', 'feature']))"
   ]
  },
  {
   "cell_type": "code",
   "execution_count": 254,
   "metadata": {
    "ExecuteTime": {
     "end_time": "2020-10-18T05:10:28.035964Z",
     "start_time": "2020-10-17T22:44:31.091017Z"
    }
   },
   "outputs": [],
   "source": [
    "v_features=shipments_with_userid[['phone_id','order_completed_at']+used_cols].groupby('phone_id').apply(foo)\n",
    "v_features.to_csv('./tmp_vb.csv')"
   ]
  },
  {
   "cell_type": "code",
   "execution_count": 268,
   "metadata": {
    "ExecuteTime": {
     "end_time": "2020-10-18T06:58:31.640810Z",
     "start_time": "2020-10-18T06:58:31.379503Z"
    },
    "scrolled": true
   },
   "outputs": [],
   "source": [
    "df = v_features.copy()"
   ]
  },
  {
   "cell_type": "code",
   "execution_count": 324,
   "metadata": {
    "ExecuteTime": {
     "end_time": "2020-10-18T07:29:21.688676Z",
     "start_time": "2020-10-18T07:29:20.967717Z"
    }
   },
   "outputs": [],
   "source": [
    "shipments_with_userid_aug = shipments_with_userid[shipments_with_userid.order_completed_at.dt.month == 8]"
   ]
  },
  {
   "cell_type": "code",
   "execution_count": 327,
   "metadata": {
    "ExecuteTime": {
     "end_time": "2020-10-18T07:54:57.620973Z",
     "start_time": "2020-10-18T07:30:34.347387Z"
    }
   },
   "outputs": [],
   "source": [
    "v_features_aug = shipments_with_userid_aug[['phone_id','order_completed_at']+used_cols].groupby('phone_id').apply(foo)\n"
   ]
  },
  {
   "cell_type": "code",
   "execution_count": 328,
   "metadata": {
    "ExecuteTime": {
     "end_time": "2020-10-18T07:55:20.282959Z",
     "start_time": "2020-10-18T07:55:19.045231Z"
    }
   },
   "outputs": [],
   "source": [
    "v_features_aug.to_csv('aug.csv')"
   ]
  },
  {
   "cell_type": "code",
   "execution_count": 304,
   "metadata": {
    "ExecuteTime": {
     "end_time": "2020-10-18T07:16:05.361481Z",
     "start_time": "2020-10-18T07:16:04.525970Z"
    },
    "scrolled": true
   },
   "outputs": [],
   "source": [
    "X = df.T.unstack(level=0).T.reset_index()\n",
    "\n",
    "train_merged = pd.merge(train, X, left_on=['phone_id','order_completed_at'], right_on=['phone_id', 'month'], how='right')\n",
    "\n",
    "train_merged_notnan = train_merged.dropna(subset=['target'])\n",
    "\n",
    "train_columns = ['promo_total_dmean', 'promo_total_dstd', 'total_cost_dmean',\n",
    "       'total_cost_dstd', 'total_weight_dmean', 'total_weight_dstd']\n",
    "\n",
    "X = train_merged_notnan.drop('target',axis=1)\n",
    "y = train_merged_notnan.target"
   ]
  },
  {
   "cell_type": "code",
   "execution_count": 330,
   "metadata": {
    "ExecuteTime": {
     "end_time": "2020-10-18T07:55:29.533836Z",
     "start_time": "2020-10-18T07:55:29.492833Z"
    }
   },
   "outputs": [],
   "source": [
    "aug = v_features_aug.T.unstack(level=0).T.reset_index()"
   ]
  },
  {
   "cell_type": "code",
   "execution_count": 335,
   "metadata": {
    "ExecuteTime": {
     "end_time": "2020-10-18T07:56:51.709126Z",
     "start_time": "2020-10-18T07:56:51.627753Z"
    }
   },
   "outputs": [],
   "source": [
    "sub = pd.merge(sample_submission, aug, left_on=['Id'], right_on=['phone_id'], how='left')\n",
    "\n"
   ]
  },
  {
   "cell_type": "code",
   "execution_count": 337,
   "metadata": {
    "ExecuteTime": {
     "end_time": "2020-10-18T07:58:01.813947Z",
     "start_time": "2020-10-18T07:58:01.796813Z"
    }
   },
   "outputs": [],
   "source": [
    "make_ones = sub[sub['month'].isna()].Id"
   ]
  },
  {
   "cell_type": "code",
   "execution_count": 354,
   "metadata": {
    "ExecuteTime": {
     "end_time": "2020-10-18T08:10:12.522524Z",
     "start_time": "2020-10-18T08:10:12.474674Z"
    },
    "code_folding": [
     41,
     48,
     58
    ]
   },
   "outputs": [],
   "source": [
    "# warnings.simplefilter('ignore')\n",
    "import time\n",
    "from numba import jit\n",
    "import numpy as np\n",
    "import pandas as pd\n",
    "import matplotlib.pyplot as plt\n",
    "import seaborn as sns\n",
    "import lightgbm as lgb\n",
    "import xgboost as xgb\n",
    "from catboost import CatBoostRegressor, CatBoostClassifier\n",
    "from sklearn import metrics\n",
    "from sklearn.model_selection import KFold\n",
    "import gc\n",
    "from sklearn.utils import shuffle\n",
    "from sklearn.metrics import roc_auc_score\n",
    "\n",
    "# @jit\n",
    "def fast_auc(y_true, y_prob):\n",
    "    \"\"\"\n",
    "    fast roc_auc computation: https://www.kaggle.com/c/microsoft-malware-prediction/discussion/76013\n",
    "    \"\"\"\n",
    "    y_true = np.asarray(y_true)\n",
    "    y_true = y_true[np.argsort(y_prob)]\n",
    "    \n",
    "    nfalse = 0\n",
    "    auc = 0\n",
    "    n = len(y_true)\n",
    "    for i in range(n):\n",
    "        y_i = y_true[i]\n",
    "        nfalse += (1 - y_i)\n",
    "        auc += y_i * nfalse\n",
    "    auc /= (nfalse * (n - nfalse))\n",
    "    return auc\n",
    "\n",
    "def eval_auc(y_true, y_pred):\n",
    "    \"\"\"\n",
    "    Fast auc eval function for lgb.\n",
    "    \"\"\"\n",
    "#     print(y_true, y_pred)\n",
    "#     return 'auc', fast_auc(y_true, y_pred), True\n",
    "    return 'auc', roc_auc_score(y_true, y_pred), True\n",
    "def group_mean_log_mae(y_true, y_pred, types, floor=1e-9):\n",
    "    \"\"\"\n",
    "    Fast metric computation for this competition: https://www.kaggle.com/c/champs-scalar-coupling\n",
    "    Code is from this kernel: https://www.kaggle.com/uberkinder/efficient-metric\n",
    "    \"\"\"\n",
    "    maes = (y_true - y_pred).abs().groupby(types).mean()\n",
    "    return np.log(maes.map(lambda x: max(x, floor))).mean()\n",
    "def plot_importance(result_dict, file=None):\n",
    "    feature_importance = result_dict['feature_importance']\n",
    "    cols = result_dict['top_columns']\n",
    "    best_features = feature_importance.loc[feature_importance.feature.isin(cols)]\n",
    "\n",
    "    plt.figure(figsize=(16, 12))\n",
    "    sns.barplot(x=\"importance\", y=\"feature\", data=best_features.sort_values(by=\"importance\", ascending=False))\n",
    "    plt.title('LGB Features (avg over folds)')\n",
    "    if file is not None:\n",
    "        plt.savefig(file)\n",
    "def train_model_classification_vb(X, X_test, y, params, folds, model_type='lgb', eval_metric='auc', columns=None,\n",
    "                                  plot_feature_importance=True, model=None,\n",
    "                                  verbose=100, early_stopping_rounds=200, n_estimators=500, splits=None,\n",
    "                                  averaging='usual', n_jobs=-1, groups=None,\n",
    "                                  train_1_sample_coef=None, train_0_sample_coef=None,\n",
    "                                  categorial_columns=None, categorial_encoder=None\n",
    "                                  ):\n",
    "    \"\"\"\n",
    "    A function to train a variety of classification models.\n",
    "    Returns dictionary with oof predictions, test predictions, scores and, if necessary, feature importances.\n",
    "    :params: X - training data, can be pd.DataFrame or np.ndarray (after normalizing)\n",
    "    :params: X_test - test data, can be pd.DataFrame or np.ndarray (after normalizing)\n",
    "    :params: y - target\n",
    "    :params: folds - folds to split data\n",
    "    :params: model_type - type of model to use\n",
    "    :params: eval_metric - metric to use\n",
    "    :params: columns - columns to use. If None - use all columns\n",
    "    :params: plot_feature_importance - whether to   plot feature importance of LGB\n",
    "    :params: model - sklearn model, works only for \"sklearn\" model type\n",
    "    \"\"\"\n",
    "    columns = X.columns if columns is None else columns\n",
    "    n_splits = folds.n_splits if splits is None else splits\n",
    "    if X_test is not None:\n",
    "        X_test = X_test[columns]\n",
    "\n",
    "    # to set up scoring parameters\n",
    "    metrics_dict = {'auc': {'lgb_metric_name': eval_auc,\n",
    "                            'catboost_metric_name': 'AUC',\n",
    "                            'sklearn_scoring_function': metrics.roc_auc_score},\n",
    "                    }\n",
    "\n",
    "    result_dict = {}\n",
    "    if averaging == 'usual':\n",
    "        # out-of-fold predictions on train data\n",
    "        oof = np.zeros((len(X), 1))\n",
    "\n",
    "        # averaged predictions on train data\n",
    "        if X_test is not None:\n",
    "            prediction = np.zeros((len(X_test), 1))\n",
    "\n",
    "    elif averaging == 'rank':\n",
    "        # out-of-fold predictions on train data\n",
    "        oof = np.zeros((len(X), 1))\n",
    "\n",
    "        # averaged predictions on train data\n",
    "        if X_test is not None:\n",
    "            prediction = np.zeros((len(X_test), 1))\n",
    "\n",
    "    # list of scores on folds\n",
    "    scores = []\n",
    "    feature_importance = pd.DataFrame()\n",
    "\n",
    "    # split and train on folds\n",
    "    if groups is None:\n",
    "        splitter = folds.split(X, y)\n",
    "    else:\n",
    "        splitter = folds.split(X, y, groups=groups)\n",
    "    for fold_n, (train_index, valid_index) in enumerate(splitter):\n",
    "        gc.collect()\n",
    "        if fold_n < folds.n_splits - n_splits:\n",
    "            continue\n",
    "        print(f'Fold {fold_n + 1} started at {time.ctime()}')\n",
    "        if type(X) == np.ndarray:\n",
    "            X_train, X_valid = X[columns][train_index], X[columns][valid_index]\n",
    "            y_train, y_valid = y[train_index], y[valid_index]\n",
    "        else:\n",
    "            X_train, X_valid = X[columns].iloc[train_index], X[columns].iloc[valid_index]\n",
    "            y_train, y_valid = y.iloc[train_index], y.iloc[valid_index]\n",
    "\n",
    "        # encode categorial features\n",
    "        if categorial_encoder is not None:\n",
    "            print('Encoding categorical features')\n",
    "            assert categorial_columns is not None\n",
    "            encoder = categorial_encoder(verbose=1, cols=categorial_columns)\n",
    "            encoder.fit(X_train, y_train)\n",
    "            X_train = encoder.transform(X_train)\n",
    "            X_valid = encoder.transform(X_valid)\n",
    "            X_test = encoder.transform(X_test)\n",
    "\n",
    "        # down/upsample train dataset\n",
    "        if train_0_sample_coef is not None or train_1_sample_coef is not None:\n",
    "            assert NotImplementedError\n",
    "            if type(X_train) is np.ndarray:\n",
    "                assert NotImplementedError\n",
    "                # train = np.hstack([X_train.values, y_train.reshape((-1,1))])\n",
    "            else:\n",
    "                X_train['target'] = y_train\n",
    "\n",
    "            train_0 = X_train[X_train.target == 0]\n",
    "            train_1 = X_train[X_train.target == 1]\n",
    "            if train_0_sample_coef is not None:\n",
    "                train_0 = train_0.sample(int(train_0.shape[0] * train_0_sample_coef),\n",
    "                                         random_state=params['random_state'], replace=True)\n",
    "            if train_1_sample_coef is not None:\n",
    "                train_1 = train_1.sample(int(train_1.shape[0] * train_1_sample_coef),\n",
    "                                         random_state=params['random_state'], replace=True)\n",
    "            train = pd.concat([train_0, train_1], axis=0)\n",
    "            train = shuffle(train, random_state=params['random_state'])\n",
    "            X_train = train.drop(['target'], axis=1)\n",
    "            y_train = train.target\n",
    "            del train_0\n",
    "            del train_1\n",
    "            del train\n",
    "\n",
    "        if model_type == 'lgb':\n",
    "            model = lgb.LGBMClassifier(**params, n_estimators=n_estimators, n_jobs=n_jobs)\n",
    "            model.fit(X_train, y_train,\n",
    "                      eval_set=[(X_train, y_train), (X_valid, y_valid)],\n",
    "                      eval_metric=metrics_dict[eval_metric]['lgb_metric_name'],\n",
    "                      verbose=verbose, early_stopping_rounds=early_stopping_rounds)\n",
    "            gc.collect()\n",
    "            y_pred_valid = model.predict_proba(X_valid, num_iteration=model.best_iteration_)[:, 1]\n",
    "            if X_test is not None:\n",
    "                y_pred = model.predict_proba(X_test, num_iteration=model.best_iteration_)[:, 1]\n",
    "\n",
    "        if model_type == 'xgb':\n",
    "            if columns is None:\n",
    "                feature_names = X.columns\n",
    "            else:\n",
    "                feature_names = columns\n",
    "            train_data = xgb.DMatrix(data=X_train, label=y_train, feature_names=feature_names)\n",
    "            valid_data = xgb.DMatrix(data=X_valid, label=y_valid, feature_names=feature_names)\n",
    "\n",
    "            watchlist = [(train_data, 'train'), (valid_data, 'valid_data')]\n",
    "            model = xgb.train(dtrain=train_data, num_boost_round=n_estimators, evals=watchlist,\n",
    "                              early_stopping_rounds=early_stopping_rounds, verbose_eval=verbose, params=params)\n",
    "            y_pred_valid = model.predict(xgb.DMatrix(X_valid, feature_names=feature_names),\n",
    "                                         ntree_limit=model.best_ntree_limit)\n",
    "            if X_test is not None:\n",
    "                y_pred = model.predict(xgb.DMatrix(X_test, feature_names=feature_names),\n",
    "                                       ntree_limit=model.best_ntree_limit)\n",
    "\n",
    "        if model_type == 'sklearn':\n",
    "            model = model\n",
    "            model.fit(X_train, y_train)\n",
    "\n",
    "            y_pred_valid = model.predict_proba(X_valid)[:, 1].reshape(-1, )\n",
    "            score = metrics_dict[eval_metric]['sklearn_scoring_function'](y_valid, y_pred_valid)\n",
    "            print(f'Fold {fold_n}. {eval_metric}: {score:.4f}.')\n",
    "            print('')\n",
    "            if X_test is not None:\n",
    "                y_pred = model.predict_proba(X_test)[:, 1]\n",
    "\n",
    "        if model_type == 'keras':\n",
    "            from keras.models import Model\n",
    "            from keras.callbacks import Callback, EarlyStopping\n",
    "\n",
    "            kmodel: Model = model()\n",
    "\n",
    "            my_callbacks = [EarlyStopping(monitor='aucroc', patience=early_stopping_rounds, verbose=1, mode='max')]\n",
    "\n",
    "            keras_params = {k: v for k, v in params.items() if k not in ('random_state',)}\n",
    "            kmodel.fit(X_train, y_train, validation_data=(X_valid, y_valid), **keras_params, callbacks=my_callbacks)\n",
    "            predict_params = {k: v for k, v in params.items() if k in ['batch_size', 'verbose', 'steps', 'callbacks',\n",
    "                                                                       'max_queue_size', 'workers',\n",
    "                                                                       'use_multiprocessing']}\n",
    "            y_pred_valid = kmodel.predict(X_valid) #, **predict_params\n",
    "            score = metrics_dict[eval_metric]['sklearn_scoring_function'](y_valid, y_pred_valid)\n",
    "            print(f'Fold {fold_n}. {eval_metric}: {score:.4f}.')\n",
    "            if X_test is not None:\n",
    "                y_pred = kmodel.predict(X_test)[:,0]\n",
    "\n",
    "        if model_type == 'cat':\n",
    "            model = CatBoostClassifier(iterations=n_estimators, **params)\n",
    "            model.fit(X_train, y_train, eval_set=(X_valid, y_valid), cat_features=categorial_columns,\n",
    "                      use_best_model=True,\n",
    "                      verbose=True)\n",
    "\n",
    "            y_pred_valid = model.predict_proba(X_valid)[:, 1]\n",
    "            if X_test is not None:\n",
    "                y_pred = model.predict_proba(X_test)[:, 1]\n",
    "\n",
    "        if averaging == 'usual':\n",
    "\n",
    "            oof[valid_index] = y_pred_valid.reshape(-1, 1)\n",
    "            scores.append(metrics_dict[eval_metric]['sklearn_scoring_function'](y_valid, y_pred_valid))\n",
    "            if X_test is not None:\n",
    "                prediction += y_pred.reshape(-1, 1)\n",
    "\n",
    "        elif averaging == 'rank':\n",
    "\n",
    "            oof[valid_index] = y_pred_valid.reshape(-1, 1)\n",
    "            scores.append(metrics_dict[eval_metric]['sklearn_scoring_function'](y_valid, y_pred_valid))\n",
    "            if X_test is not None:\n",
    "                prediction += pd.Series(y_pred).rank().values.reshape(-1, 1)\n",
    "\n",
    "        if model_type == 'lgb' and plot_feature_importance:\n",
    "            # feature importance\n",
    "            fold_importance = pd.DataFrame()\n",
    "            fold_importance[\"feature\"] = columns\n",
    "            fold_importance[\"importance\"] = model.feature_importances_\n",
    "            fold_importance[\"fold\"] = fold_n + 1\n",
    "            feature_importance = pd.concat([feature_importance, fold_importance], axis=0)\n",
    "\n",
    "    if X_test is not None:\n",
    "        prediction /= n_splits\n",
    "\n",
    "    print('CV mean score: {0:.4f}, std: {1:.4f}.'.format(np.mean(scores), np.std(scores)))\n",
    "\n",
    "    result_dict['oof'] = oof\n",
    "    if X_test is not None:\n",
    "        result_dict['prediction'] = prediction\n",
    "    result_dict['scores'] = scores\n",
    "\n",
    "    if model_type == 'lgb':\n",
    "        if plot_feature_importance:\n",
    "            feature_importance[\"importance\"] /= n_splits\n",
    "            cols = feature_importance[[\"feature\", \"importance\"]].groupby(\"feature\").mean().sort_values(\n",
    "                by=\"importance\", ascending=False)[:50].index\n",
    "\n",
    "            result_dict['feature_importance'] = feature_importance\n",
    "            result_dict['top_columns'] = cols\n",
    "            plot_importance(result_dict)\n",
    "\n",
    "    return result_dict\n",
    "\n",
    "from sklearn.model_selection import GroupKFold\n",
    "\n",
    "NFOLDS = 3\n",
    "folds = GroupKFold(n_splits=NFOLDS)\n",
    "\n",
    "params = {\n",
    "          'num_leaves': 491,\n",
    "          'min_child_weight': 0.03454472573214212,\n",
    "          'feature_fraction': 0.3797454081646243,\n",
    "          'bagging_fraction': 0.4181193142567742,\n",
    "          'min_data_in_leaf': 106,\n",
    "          'objective': 'binary',\n",
    "          'max_depth': -1,\n",
    "          'learning_rate': 0.1,\n",
    "          \"boosting_type\": \"gbdt\",\n",
    "          \"bagging_seed\": 11,\n",
    "          \"metric\": 'auc',\n",
    "          \"verbosity\": -1,\n",
    "          'reg_alpha': 0.3899927210061127,\n",
    "          'reg_lambda': 0.6485237330340494,\n",
    "          'random_state': 47\n",
    "         }\n",
    "train_options = {\n",
    "        \"model_type\":'lgb',\n",
    "        \"params\": params,\n",
    "        \"eval_metric\":'auc',\n",
    "        'early_stopping_rounds': 50,\n",
    "        'n_estimators': 1000,\n",
    "        'averaging': 'usual',\n",
    "        'use_groups': False,\n",
    "        'fold_name': folds.__class__.__name__,\n",
    "        'n_splits': NFOLDS\n",
    "    }"
   ]
  },
  {
   "cell_type": "code",
   "execution_count": 362,
   "metadata": {
    "ExecuteTime": {
     "end_time": "2020-10-18T08:17:06.571902Z",
     "start_time": "2020-10-18T08:14:02.381221Z"
    },
    "scrolled": true
   },
   "outputs": [
    {
     "name": "stdout",
     "output_type": "stream",
     "text": [
      "Fold 1 started at Sun Oct 18 11:14:03 2020\n",
      "Training until validation scores don't improve for 50 rounds\n",
      "[50]\ttraining's auc: 0.746568\ttraining's auc: 0.746568\tvalid_1's auc: 0.743295\tvalid_1's auc: 0.743295\n",
      "[100]\ttraining's auc: 0.749532\ttraining's auc: 0.749532\tvalid_1's auc: 0.743106\tvalid_1's auc: 0.743106\n",
      "Early stopping, best iteration is:\n",
      "[72]\ttraining's auc: 0.747941\ttraining's auc: 0.747941\tvalid_1's auc: 0.743324\tvalid_1's auc: 0.743324\n",
      "Fold 2 started at Sun Oct 18 11:15:05 2020\n",
      "Training until validation scores don't improve for 50 rounds\n",
      "[50]\ttraining's auc: 0.746656\ttraining's auc: 0.746656\tvalid_1's auc: 0.743051\tvalid_1's auc: 0.743051\n",
      "[100]\ttraining's auc: 0.749669\ttraining's auc: 0.749669\tvalid_1's auc: 0.742884\tvalid_1's auc: 0.742884\n",
      "Early stopping, best iteration is:\n",
      "[72]\ttraining's auc: 0.748058\ttraining's auc: 0.748058\tvalid_1's auc: 0.743101\tvalid_1's auc: 0.743101\n",
      "Fold 3 started at Sun Oct 18 11:16:08 2020\n",
      "Training until validation scores don't improve for 50 rounds\n",
      "[50]\ttraining's auc: 0.74687\ttraining's auc: 0.74687\tvalid_1's auc: 0.742616\tvalid_1's auc: 0.742616\n",
      "[100]\ttraining's auc: 0.74992\ttraining's auc: 0.74992\tvalid_1's auc: 0.74239\tvalid_1's auc: 0.74239\n",
      "Early stopping, best iteration is:\n",
      "[63]\ttraining's auc: 0.747788\ttraining's auc: 0.747788\tvalid_1's auc: 0.742634\tvalid_1's auc: 0.742634\n",
      "CV mean score: 0.7430, std: 0.0003.\n"
     ]
    },
    {
     "data": {
      "image/png": "[encoded data removed]",
      "text/plain": [
       "<Figure size 1152x864 with 1 Axes>"
      ]
     },
     "metadata": {
      "needs_background": "light"
     },
     "output_type": "display_data"
    }
   ],
   "source": [
    "result_dict = train_model_classification_vb( \n",
    "                                             X=X, X_test=sub, columns=train_columns,\n",
    "                                             y=y.astype(np.uint8), params=params, folds=folds,\n",
    "                                             model_type=train_options['model_type'], \n",
    "                                             plot_feature_importance=True,\n",
    "                                             verbose=50, early_stopping_rounds=train_options['early_stopping_rounds'],\n",
    "                                             n_estimators=train_options['n_estimators'], \n",
    "                                             averaging=train_options['averaging'],\n",
    "                                             n_jobs=-1, groups=X['phone_id'])\n",
    "\n",
    "\n"
   ]
  },
  {
   "cell_type": "code",
   "execution_count": 365,
   "metadata": {
    "ExecuteTime": {
     "end_time": "2020-10-18T08:18:19.310198Z",
     "start_time": "2020-10-18T08:18:19.305405Z"
    }
   },
   "outputs": [],
   "source": [
    "\n",
    "from scipy.optimize import differential_evolution\n",
    "from sklearn.metrics import matthews_corrcoef\n",
    "import pandas as pd\n",
    "\n",
    " \n",
    "def choose_tr_mcc(y_true, y_pred):\n",
    "    '''\n",
    "    Подбирает порог для бинарной классификации\n",
    "    :param y_true: Реальные значения {0,1}\n",
    "    :param y_pred: Предсказанные [0,1]\n",
    "    :return: Подобранный порог\n",
    "    '''\n",
    "    def mcc_eval(x):\n",
    "        return (-1) * matthews_corrcoef(y_true, (y_pred > x).astype(int))\n",
    " \n",
    "    res = differential_evolution(func=mcc_eval, bounds=[(0, 1)], seed=0)\n",
    "\n",
    "    return res.x[0]"
   ]
  },
  {
   "cell_type": "code",
   "execution_count": 370,
   "metadata": {
    "ExecuteTime": {
     "end_time": "2020-10-18T08:20:09.443185Z",
     "start_time": "2020-10-18T08:18:56.877580Z"
    }
   },
   "outputs": [
    {
     "name": "stderr",
     "output_type": "stream",
     "text": [
      "/Users/annabaydina/opt/anaconda3/lib/python3.7/site-packages/sklearn/metrics/_classification.py:900: RuntimeWarning: invalid value encountered in double_scalars\n",
      "  mcc = cov_ytyp / np.sqrt(cov_ytyt * cov_ypyp)\n"
     ]
    },
    {
     "data": {
      "text/plain": [
       "0.5345958506325326"
      ]
     },
     "execution_count": 370,
     "metadata": {},
     "output_type": "execute_result"
    }
   ],
   "source": [
    "thres = choose_tr_mcc(y, result_dict['oof'])\n",
    "thres"
   ]
  },
  {
   "cell_type": "code",
   "execution_count": 462,
   "metadata": {
    "ExecuteTime": {
     "end_time": "2020-10-18T08:44:08.485249Z",
     "start_time": "2020-10-18T08:44:08.482283Z"
    }
   },
   "outputs": [],
   "source": [
    "predictions = (result_dict['prediction']>0.36).astype(np.uint8)\n",
    "\n",
    "df_pred = pd.DataFrame(predictions, columns=['Predicted'], index=sample_submission.Id)\n",
    "\n",
    "df_pred.loc[make_ones.values, 'Predicted'] += 1 \n",
    "\n",
    "df_pred.Predicted.sum()\n",
    "\n",
    "df_pred.to_csv('submission_avb2.csv')"
   ]
  },
  {
   "cell_type": "markdown",
   "metadata": {},
   "source": [
    "# полный датасет"
   ]
  },
  {
   "cell_type": "code",
   "execution_count": 481,
   "metadata": {
    "ExecuteTime": {
     "end_time": "2020-10-18T08:59:28.603398Z",
     "start_time": "2020-10-18T08:59:14.627850Z"
    }
   },
   "outputs": [
    {
     "name": "stderr",
     "output_type": "stream",
     "text": [
      "/Users/annabaydina/opt/anaconda3/lib/python3.7/site-packages/IPython/core/interactiveshell.py:3063: DtypeWarning: Columns (4) have mixed types.Specify dtype option on import or set low_memory=False.\n",
      "  interactivity=interactivity, compiler=compiler, result=result)\n"
     ]
    }
   ],
   "source": [
    "katya = pd.read_csv('addr_shipments_123_float.csv')"
   ]
  },
  {
   "cell_type": "code",
   "execution_count": 485,
   "metadata": {
    "ExecuteTime": {
     "end_time": "2020-10-18T09:02:29.618757Z",
     "start_time": "2020-10-18T09:02:23.776093Z"
    }
   },
   "outputs": [],
   "source": [
    "katya_merged = pd.merge(train, katya, left_on=['phone_id','order_completed_at'], right_on=['phone_id', 'month'], how='right')"
   ]
  },
  {
   "cell_type": "code",
   "execution_count": 486,
   "metadata": {
    "ExecuteTime": {
     "end_time": "2020-10-18T09:03:37.591008Z",
     "start_time": "2020-10-18T09:03:34.915511Z"
    }
   },
   "outputs": [],
   "source": [
    "katya_merged_notnan = katya_merged.dropna(subset=['target'])\n",
    "\n",
    "train_columns = ['total_weight_sum', 'total_weight_min', 'total_weight_max',\n",
    "       'total_weight_mean', 'total_weight_std', 'promo_total_sum',\n",
    "       'promo_total_min', 'promo_total_max', 'promo_total_mean',\n",
    "       'promo_total_std', 'rate_sum', 'rate_min', 'rate_max', 'rate_mean',\n",
    "       'rate_std', 'total_cost_sum', 'total_cost_min', 'total_cost_max',\n",
    "       'total_cost_mean', 'total_cost_std', 'total_weight_sum_2',\n",
    "       'total_weight_min_2', 'total_weight_max_2', 'total_weight_mean_2',\n",
    "       'total_weight_std_2', 'total_weight_sum_3', 'total_weight_min_3',\n",
    "       'total_weight_max_3', 'total_weight_mean_3', 'total_weight_std_3',\n",
    "       'total_cost_sum_2', 'total_cost_min_2', 'total_cost_max_2',\n",
    "       'total_cost_mean_2', 'total_cost_std_2', 'total_cost_sum_3',\n",
    "       'total_cost_min_3', 'total_cost_max_3', 'total_cost_mean_3',\n",
    "       'total_cost_std_3', 'rate_sum_2', 'rate_min_2', 'rate_max_2',\n",
    "       'rate_mean_2', 'rate_std_2', 'rate_sum_3', 'rate_min_3', 'rate_max_3',\n",
    "       'rate_mean_3', 'rate_std_3', 'promo_total_sum_2', 'promo_total_min_2',\n",
    "       'promo_total_max_2', 'promo_total_mean_2', 'promo_total_std_2',\n",
    "       'promo_total_sum_3', 'promo_total_min_3', 'promo_total_max_3',\n",
    "       'promo_total_mean_3', 'promo_total_std_3']\n",
    "\n",
    "X = katya_merged_notnan.drop('target',axis=1)\n",
    "y = katya_merged_notnan.target"
   ]
  },
  {
   "cell_type": "code",
   "execution_count": 491,
   "metadata": {
    "ExecuteTime": {
     "end_time": "2020-10-18T09:05:04.314080Z",
     "start_time": "2020-10-18T09:05:03.986729Z"
    }
   },
   "outputs": [],
   "source": [
    "X_test = katya_merged[katya_merged.month=='2020-08']"
   ]
  },
  {
   "cell_type": "code",
   "execution_count": 493,
   "metadata": {
    "ExecuteTime": {
     "end_time": "2020-10-18T09:06:03.660941Z",
     "start_time": "2020-10-18T09:06:03.655545Z"
    }
   },
   "outputs": [],
   "source": [
    "from sklearn.model_selection import GroupKFold\n",
    "\n",
    "NFOLDS = 3\n",
    "folds = GroupKFold(n_splits=NFOLDS)"
   ]
  },
  {
   "cell_type": "code",
   "execution_count": 559,
   "metadata": {
    "ExecuteTime": {
     "end_time": "2020-10-18T10:07:49.789442Z",
     "start_time": "2020-10-18T10:07:49.784664Z"
    }
   },
   "outputs": [],
   "source": [
    "params = {\n",
    "          'num_leaves': 500,\n",
    "          'min_child_weight': 0.03454472573214212,\n",
    "          'feature_fraction': 0.3797454081646243,\n",
    "          'bagging_fraction': 0.4181193142567742,\n",
    "          'min_data_in_leaf': 106,\n",
    "          'objective': 'binary',\n",
    "          'max_depth': -1,\n",
    "          'learning_rate': 0.03,\n",
    "          \"boosting_type\": \"gbdt\",\n",
    "          \"bagging_seed\": 11,\n",
    "          \"metric\": 'auc',\n",
    "          \"verbosity\": -1,\n",
    "          'reg_alpha': 0.3899927210061127,\n",
    "          'reg_lambda': 0.6485237330340494,\n",
    "          'random_state': 47\n",
    "         }\n",
    "train_options = {\n",
    "        \"model_type\":'lgb',\n",
    "        \"params\": params,\n",
    "        \"eval_metric\":'auc',\n",
    "        'early_stopping_rounds': 50,\n",
    "        'n_estimators': 1000,\n",
    "        'averaging': 'usual',\n",
    "        'use_groups': False,\n",
    "        'fold_name': folds.__class__.__name__,\n",
    "        'n_splits': NFOLDS\n",
    "    }"
   ]
  },
  {
   "cell_type": "code",
   "execution_count": 560,
   "metadata": {
    "ExecuteTime": {
     "end_time": "2020-10-18T10:13:11.284344Z",
     "start_time": "2020-10-18T10:07:50.440737Z"
    },
    "scrolled": false
   },
   "outputs": [
    {
     "name": "stdout",
     "output_type": "stream",
     "text": [
      "Fold 1 started at Sun Oct 18 13:07:51 2020\n",
      "Training until validation scores don't improve for 50 rounds\n",
      "[50]\ttraining's auc: 0.796068\ttraining's auc: 0.796068\tvalid_1's auc: 0.761873\tvalid_1's auc: 0.761873\n",
      "[100]\ttraining's auc: 0.814451\ttraining's auc: 0.814451\tvalid_1's auc: 0.76233\tvalid_1's auc: 0.76233\n",
      "[150]\ttraining's auc: 0.830437\ttraining's auc: 0.830437\tvalid_1's auc: 0.762428\tvalid_1's auc: 0.762428\n",
      "[200]\ttraining's auc: 0.843368\ttraining's auc: 0.843368\tvalid_1's auc: 0.762372\tvalid_1's auc: 0.762372\n",
      "Early stopping, best iteration is:\n",
      "[169]\ttraining's auc: 0.835744\ttraining's auc: 0.835744\tvalid_1's auc: 0.762477\tvalid_1's auc: 0.762477\n",
      "Fold 2 started at Sun Oct 18 13:10:14 2020\n",
      "Training until validation scores don't improve for 50 rounds\n",
      "[50]\ttraining's auc: 0.795885\ttraining's auc: 0.795885\tvalid_1's auc: 0.761542\tvalid_1's auc: 0.761542\n",
      "[100]\ttraining's auc: 0.813989\ttraining's auc: 0.813989\tvalid_1's auc: 0.761864\tvalid_1's auc: 0.761864\n",
      "Early stopping, best iteration is:\n",
      "[94]\ttraining's auc: 0.811902\ttraining's auc: 0.811902\tvalid_1's auc: 0.761903\tvalid_1's auc: 0.761903\n",
      "Fold 3 started at Sun Oct 18 13:11:50 2020\n",
      "Training until validation scores don't improve for 50 rounds\n",
      "[50]\ttraining's auc: 0.795431\ttraining's auc: 0.795431\tvalid_1's auc: 0.764496\tvalid_1's auc: 0.764496\n",
      "[100]\ttraining's auc: 0.813888\ttraining's auc: 0.813888\tvalid_1's auc: 0.764543\tvalid_1's auc: 0.764543\n",
      "Early stopping, best iteration is:\n",
      "[61]\ttraining's auc: 0.799623\ttraining's auc: 0.799623\tvalid_1's auc: 0.764665\tvalid_1's auc: 0.764665\n",
      "CV mean score: 0.7630, std: 0.0012.\n"
     ]
    },
    {
     "data": {
      "image/png": "[encoded data removed]",
      "text/plain": [
       "<Figure size 1152x864 with 1 Axes>"
      ]
     },
     "metadata": {
      "needs_background": "light"
     },
     "output_type": "display_data"
    }
   ],
   "source": [
    "result_dict = train_model_classification_vb( \n",
    "                                             X=X, X_test=X_test, columns=train_columns,\n",
    "                                             y=y.astype(np.uint8), params=params, folds=folds,\n",
    "                                             model_type=train_options['model_type'], \n",
    "                                             plot_feature_importance=True,\n",
    "                                             verbose=50, early_stopping_rounds=train_options['early_stopping_rounds'],\n",
    "                                             n_estimators=train_options['n_estimators'], \n",
    "                                             averaging=train_options['averaging'],\n",
    "                                             n_jobs=-1, groups=X['phone_id'])\n",
    "\n",
    "\n"
   ]
  },
  {
   "cell_type": "code",
   "execution_count": 562,
   "metadata": {
    "ExecuteTime": {
     "end_time": "2020-10-18T10:16:00.396112Z",
     "start_time": "2020-10-18T10:16:00.329403Z"
    }
   },
   "outputs": [],
   "source": [
    "subkatya = sample_submission.join(pd.DataFrame(result_dict['prediction'], columns=['Predicted'], index=X_test.phone_id),rsuffix='_res', on='Id')"
   ]
  },
  {
   "cell_type": "code",
   "execution_count": 563,
   "metadata": {
    "ExecuteTime": {
     "end_time": "2020-10-18T10:16:00.419226Z",
     "start_time": "2020-10-18T10:16:00.398388Z"
    }
   },
   "outputs": [],
   "source": [
    "subk = subkatya.fillna(1).drop('Predicted', axis=1).rename(columns={'Predicted_res':'Predicted'}).set_index('Id')"
   ]
  },
  {
   "cell_type": "code",
   "execution_count": 564,
   "metadata": {
    "ExecuteTime": {
     "end_time": "2020-10-18T10:16:00.488181Z",
     "start_time": "2020-10-18T10:16:00.421116Z"
    }
   },
   "outputs": [],
   "source": [
    "final = subk.reset_index().groupby('Id').Predicted.agg('mean')"
   ]
  },
  {
   "cell_type": "code",
   "execution_count": 573,
   "metadata": {
    "ExecuteTime": {
     "end_time": "2020-10-18T10:30:03.181781Z",
     "start_time": "2020-10-18T10:30:03.155526Z"
    }
   },
   "outputs": [],
   "source": [
    "fin = pd.DataFrame((final>0.3).astype(np.uint8), columns=['Predicted'])"
   ]
  },
  {
   "cell_type": "code",
   "execution_count": 575,
   "metadata": {
    "ExecuteTime": {
     "end_time": "2020-10-18T10:30:23.258160Z",
     "start_time": "2020-10-18T10:30:22.993456Z"
    }
   },
   "outputs": [],
   "source": [
    "fin.to_csv('submission_avb6.csv')"
   ]
  },
  {
   "cell_type": "code",
   "execution_count": null,
   "metadata": {},
   "outputs": [],
   "source": []
  },
  {
   "cell_type": "code",
   "execution_count": null,
   "metadata": {},
   "outputs": [],
   "source": []
  },
  {
   "cell_type": "code",
   "execution_count": null,
   "metadata": {},
   "outputs": [],
   "source": []
  },
  {
   "cell_type": "code",
   "execution_count": null,
   "metadata": {},
   "outputs": [],
   "source": []
  },
  {
   "cell_type": "code",
   "execution_count": null,
   "metadata": {},
   "outputs": [],
   "source": []
  }
 ],
 "metadata": {
  "kernelspec": {
   "display_name": "Python 3",
   "language": "python",
   "name": "python3"
  },
  "language_info": {
   "codemirror_mode": {
    "name": "ipython",
    "version": 3
   },
   "file_extension": ".py",
   "mimetype": "text/x-python",
   "name": "python",
   "nbconvert_exporter": "python",
   "pygments_lexer": "ipython3",
   "version": "3.7.7"
  },
  "toc": {
   "base_numbering": 1,
   "nav_menu": {},
   "number_sections": true,
   "sideBar": true,
   "skip_h1_title": false,
   "title_cell": "Table of Contents",
   "title_sidebar": "Contents",
   "toc_cell": false,
   "toc_position": {},
   "toc_section_display": true,
   "toc_window_display": true
  }
 },
 "nbformat": 4,
 "nbformat_minor": 4
}
